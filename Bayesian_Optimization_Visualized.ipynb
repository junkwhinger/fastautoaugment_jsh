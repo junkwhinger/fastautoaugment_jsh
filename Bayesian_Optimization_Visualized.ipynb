{
 "cells": [
  {
   "cell_type": "markdown",
   "metadata": {},
   "source": [
    "# Visualising trials from Fast AutoAugment\n",
    "\n",
    "In this notebook, I aim to understand how Fast AutoAugment found the optimal data augmentation policies for CIFAR-10.\n",
    "\n",
    "In the bayesian optimization loop I designed, at each round, the evaluation function receives a randomly selected sub-policy that has two operations with their probabilities and magnitudes. The function saves the sub-policy and its validation loss to Trials. I'm going to delve into the Trials and visualize the relationship between validation error (that we are aiming to minimize) and operations.\n",
    "\n",
    "To focus on an operation at a time, I de-coupled 2 operations with their joint validation loss. This might weaken the interpretation but it shows the general trend. "
   ]
  },
  {
   "cell_type": "code",
   "execution_count": null,
   "metadata": {},
   "outputs": [],
   "source": [
    "import os\n",
    "import pickle\n",
    "from collections import defaultdict\n",
    "from search_fastautoaugment import decipher_trial\n",
    "import pandas as pd\n",
    "import numpy as np\n",
    "\n",
    "import matplotlib.pyplot as plt\n",
    "%matplotlib inline"
   ]
  },
  {
   "cell_type": "code",
   "execution_count": null,
   "metadata": {},
   "outputs": [],
   "source": [
    "cv_folds = 5\n",
    "search_width = 2\n",
    "search_results_folder = 'fastautoaugment'"
   ]
  },
  {
   "cell_type": "code",
   "execution_count": null,
   "metadata": {},
   "outputs": [],
   "source": [
    "agg_list = []\n",
    "\n",
    "for k_idx in range(cv_folds):\n",
    "\n",
    "    byT_error = []\n",
    "    byT_policies = []\n",
    "\n",
    "    for t_idx in range(search_width):\n",
    "        trials = pickle.load(\n",
    "            open(os.path.join(search_results_folder, \"k{}_t{}_trials.pkl\".format(k_idx, t_idx)), \"rb\"))\n",
    "        val_error_list, sub_policy_list = decipher_trial(trials)\n",
    "\n",
    "        byT_error.extend(val_error_list)\n",
    "        byT_policies.extend(sub_policy_list)\n",
    "        \n",
    "    for error, policy in zip(byT_error, byT_policies):\n",
    "        op_list = list(policy.keys())\n",
    "        for op_name in op_list:\n",
    "            entry = defaultdict()\n",
    "            entry['op_name'] = op_name\n",
    "            entry['op_prob'], entry['op_value'] = policy[op_name]\n",
    "            entry['error'] = error\n",
    "\n",
    "            agg_list.append(entry)"
   ]
  },
  {
   "cell_type": "code",
   "execution_count": null,
   "metadata": {},
   "outputs": [],
   "source": [
    "agg_df = pd.DataFrame(agg_list)"
   ]
  },
  {
   "cell_type": "code",
   "execution_count": null,
   "metadata": {},
   "outputs": [],
   "source": [
    "agg_df.head()"
   ]
  },
  {
   "cell_type": "code",
   "execution_count": null,
   "metadata": {},
   "outputs": [],
   "source": [
    "g = agg_df.groupby('op_name')\n",
    "\n",
    "fig, ax = plt.subplots(8, 4, figsize=(12, 24))\n",
    "\n",
    "for idx, (label, data) in enumerate(g):\n",
    "    nrow = idx // 2\n",
    "    isEven = int((idx+1) % 2 == 0)\n",
    "    \n",
    "    minimum_record = data.iloc[np.argmin(np.array(data.error))]\n",
    "    \n",
    "    ax[nrow, isEven*2].scatter(data.op_prob, data.error, alpha=0.5)\n",
    "    ax[nrow, isEven*2].scatter(minimum_record.op_prob, minimum_record.error, color='red')\n",
    "    if not data.op_value.iloc[0] == 'None':\n",
    "        ax[nrow, isEven*2+1].scatter(data.op_value, data.error, alpha=0.5)\n",
    "        ax[nrow, isEven*2+1].scatter(minimum_record.op_value, minimum_record.error, color='red')\n",
    "    ax[nrow, isEven*2].set_title(label + \" prob\")\n",
    "    ax[nrow, isEven*2+1].set_title(label + \" value\")\n",
    "    \n",
    "    ax[nrow, isEven*2].set_ylabel(\"error\")\n",
    "    \n",
    "#     ax[nrow, isEven*2].set_ylim(0.1, 0.2)\n",
    "#     ax[nrow, isEven*2+1].set_ylim(0.1, 0.2)\n",
    "plt.tight_layout()    \n",
    "plt.show()"
   ]
  }
 ],
 "metadata": {
  "kernelspec": {
   "display_name": "Python 3",
   "language": "python",
   "name": "python3"
  },
  "language_info": {
   "codemirror_mode": {
    "name": "ipython",
    "version": 3
   },
   "file_extension": ".py",
   "mimetype": "text/x-python",
   "name": "python",
   "nbconvert_exporter": "python",
   "pygments_lexer": "ipython3",
   "version": "3.7.3"
  }
 },
 "nbformat": 4,
 "nbformat_minor": 2
}
